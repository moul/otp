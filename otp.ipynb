{
 "cells": [
  {
   "cell_type": "code",
   "execution_count": null,
   "metadata": {},
   "outputs": [],
   "source": [
    "# basic operations"
   ]
  },
  {
   "cell_type": "code",
   "execution_count": 1,
   "metadata": {},
   "outputs": [
    {
     "name": "stdout",
     "output_type": "stream",
     "text": [
      "00000000  68 65 6c 6c 6f 20 77 6f  72 6c 64 21              |hello world!|\n",
      "0000000c\n"
     ]
    }
   ],
   "source": [
    "echo -n \"hello world!\" | hexdump -C"
   ]
  },
  {
   "cell_type": "code",
   "execution_count": 2,
   "metadata": {},
   "outputs": [
    {
     "name": "stdout",
     "output_type": "stream",
     "text": [
      "00000000  40 40 40 40 40 40 40 40  40 40 40 40              |@@@@@@@@@@@@|\n",
      "0000000c\n"
     ]
    }
   ],
   "source": [
    "echo -n \"@@@@@@@@@@@@\" | hexdump -C"
   ]
  },
  {
   "cell_type": "code",
   "execution_count": 3,
   "metadata": {},
   "outputs": [
    {
     "name": "stdout",
     "output_type": "stream",
     "text": [
      "00000000  28 25 2c 2c 2f 60 37 2f  32 2c 24 61              |(%,,/`7/2,$a|\n",
      "0000000c\n"
     ]
    }
   ],
   "source": [
    "echo -n \"hello world!\" | otp \"@@@@@@@@@@@@\" | hexdump -C"
   ]
  },
  {
   "cell_type": "code",
   "execution_count": 4,
   "metadata": {},
   "outputs": [
    {
     "name": "stdout",
     "output_type": "stream",
     "text": [
      "00000000  68 65 6c 6c 6f 20 77 6f  72 6c 64 21              |hello world!|\n",
      "0000000c\n"
     ]
    }
   ],
   "source": [
    "echo -n \"hello world!\" | otp \"@@@@@@@@@@@@\" | otp \"@@@@@@@@@@@@\" | hexdump -C"
   ]
  },
  {
   "cell_type": "code",
   "execution_count": 5,
   "metadata": {},
   "outputs": [
    {
     "name": "stdout",
     "output_type": "stream",
     "text": [
      "00000000  28 25 2c 2c 2f 60 37 2f  32 2c 24 61              |(%,,/`7/2,$a|\n",
      "0000000c\n"
     ]
    }
   ],
   "source": [
    "echo -n \"@@@@@@@@@@@@\" | otp \"hello world!\" | hexdump -C"
   ]
  },
  {
   "cell_type": "code",
   "execution_count": 7,
   "metadata": {},
   "outputs": [
    {
     "name": "stdout",
     "output_type": "stream",
     "text": [
      "00000000  00 00 00 00 00 00 00 00  00 00 00 00              |............|\n",
      "0000000c\n"
     ]
    }
   ],
   "source": [
    "echo -n \"hello world!\" | otp \"hello world!\" | hexdump -C"
   ]
  },
  {
   "cell_type": "code",
   "execution_count": 8,
   "metadata": {},
   "outputs": [
    {
     "name": "stdout",
     "output_type": "stream",
     "text": [
      "00000000  68 65 6c 6c 6f 20 77 6f  72 6c 64 21              |hello world!|\n",
      "0000000c\n"
     ]
    }
   ],
   "source": [
    "printf \"\\0\\0\\0\\0\\0\\0\\0\\0\\0\\0\\0\\0\" | otp \"hello world!\" | hexdump -C"
   ]
  },
  {
   "cell_type": "code",
   "execution_count": 9,
   "metadata": {},
   "outputs": [],
   "source": [
    "# don't reuse the same key!"
   ]
  },
  {
   "cell_type": "code",
   "execution_count": 10,
   "metadata": {},
   "outputs": [],
   "source": [
    "A=\"hello world!\""
   ]
  },
  {
   "cell_type": "code",
   "execution_count": 11,
   "metadata": {},
   "outputs": [],
   "source": [
    "B=\"lorem ipsum!\""
   ]
  },
  {
   "cell_type": "code",
   "execution_count": 12,
   "metadata": {},
   "outputs": [],
   "source": [
    "K=\"abcdefghijkl\""
   ]
  },
  {
   "cell_type": "code",
   "execution_count": 46,
   "metadata": {},
   "outputs": [
    {
     "name": "stdout",
     "output_type": "stream",
     "text": [
      "00000000  09 07 0f 08 0a 46 10 07  1b 06 0f 4d              |.....F.....M|\n",
      "0000000c\n"
     ]
    }
   ],
   "source": [
    "echo -n \"$A\" | otp $K | tee ./a.enc | hexdump -C"
   ]
  },
  {
   "cell_type": "code",
   "execution_count": 47,
   "metadata": {},
   "outputs": [
    {
     "name": "stdout",
     "output_type": "stream",
     "text": [
      "00000000  0d 0d 11 01 08 46 0e 18  1a 1f 06 4d              |.....F.....M|\n",
      "0000000c\n"
     ]
    }
   ],
   "source": [
    "echo -n \"$B\" | otp $K | tee ./b.enc | hexdump -C"
   ]
  },
  {
   "cell_type": "code",
   "execution_count": 48,
   "metadata": {},
   "outputs": [
    {
     "name": "stdout",
     "output_type": "stream",
     "text": [
      "00000000  04 0a 1e 09 02 00 1e 1f  01 19 09 00              |............|\n",
      "0000000c\n"
     ]
    }
   ],
   "source": [
    "cat ./a.enc | otp ./b.enc | tee k.enc | hexdump -C"
   ]
  },
  {
   "cell_type": "code",
   "execution_count": 49,
   "metadata": {},
   "outputs": [
    {
     "name": "stdout",
     "output_type": "stream",
     "text": [
      "00000000  6c 6f 72 65 6d 20 69 70  73 75 6d 21              |lorem ipsum!|\n",
      "0000000c\n"
     ]
    }
   ],
   "source": [
    "echo -n \"$A\" | otp ./k.enc | hexdump -C"
   ]
  }
 ],
 "metadata": {
  "kernelspec": {
   "display_name": "Bash",
   "language": "bash",
   "name": "bash"
  },
  "language_info": {
   "codemirror_mode": "shell",
   "file_extension": ".sh",
   "mimetype": "text/x-sh",
   "name": "bash"
  }
 },
 "nbformat": 4,
 "nbformat_minor": 2
}
